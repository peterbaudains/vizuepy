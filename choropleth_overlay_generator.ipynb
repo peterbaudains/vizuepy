{
 "cells": [
  {
   "attachments": {},
   "cell_type": "markdown",
   "metadata": {},
   "source": [
    "# Choropleth overlay generator\n",
    "\n",
    "This notebook creates high resolution images of choropleth maps using [GeoPandas](https://geopandas.org/en/stable/getting_started/install.html). These images can be added as a texture in Unreal Engine 5 and configured as an overlay material on static mesh actors to give the effect of a choropleth map in 3d."
   ]
  },
  {
   "cell_type": "code",
   "execution_count": null,
   "metadata": {},
   "outputs": [],
   "source": [
    "import geopandas as gpd\n",
    "import matplotlib.pyplot as plt\n",
    "import numpy as np"
   ]
  },
  {
   "cell_type": "code",
   "execution_count": null,
   "metadata": {},
   "outputs": [],
   "source": [
    "# Load sample data - check geopandas docs for file formats: https://geopandas.org/en/stable/docs/user_guide/io.html\n",
    "data_path = 'sample_data/FourLADs_2011LOAC.gpkg'\n",
    "gdf = gpd.read_file(data_path)\n",
    "\n",
    "# Quick CRS check\n",
    "if gdf.crs != 'EPSG:27700':\n",
    "    print('Check your coordinate reference system. This notebook was developed using EPSG:27700 and it may not work correctly with other coordinate reference systems.')\n",
    "\n",
    "# Dictionary to add description to supergroup labels\n",
    "legend_label_lookup = {'A': 'Intermediate Lifestyles', \n",
    "                       'B': 'High Density and High Rise Flats', \n",
    "                       'C': 'Settled Asians', \n",
    "                       'D': 'Urban Elites', \n",
    "                       'E': 'City Vibe', \n",
    "                       'F': 'London Life-Cycle', \n",
    "                       'G': 'Multi-Ethnic Suburbs', \n",
    "                       'H': 'Ageing City Fringe'}\n",
    "\n",
    "column_to_plot = 'Super'\n",
    "legend_filename = 'images/FourLADs_LOAC_legend.png'\n",
    "texture_filename = 'images/FourLADs_LOAC_texture.png'\n",
    "\n",
    "ue_world_origin_bng_eastings = 532816\n",
    "ue_world_origin_bng_northings = 180759\n"
   ]
  },
  {
   "cell_type": "code",
   "execution_count": null,
   "metadata": {},
   "outputs": [],
   "source": [
    "def export_legend(legend, filename, legend_label_dict=None, expand=[-5,-5,5,5]):\n",
    "    '''\n",
    "    Takes a matplotlib legend, draws the full figure to which that legend belongs, \n",
    "    cuts out the legend and saves the legend as a separate file. \n",
    "    This legend can then be added as a heads-up display UI element in your unreal project.\n",
    "    See https://docs.unrealengine.com/5.2/en-US/umg-ui-designer-quick-start-guide/\n",
    "    '''\n",
    "    fig  = legend.figure\n",
    "    fig.canvas.draw()\n",
    "\n",
    "    if legend_label_dict is not None:\n",
    "        for label in legend.get_texts():\n",
    "            label.set_text(legend_label_dict[label.get_text()])\n",
    "    \n",
    "    bbox  = legend.get_window_extent()\n",
    "    bbox = bbox.from_extents(*(bbox.extents + np.array(expand)))\n",
    "    bbox = bbox.transformed(fig.dpi_scale_trans.inverted())\n",
    "\n",
    "    fig.savefig(filename, dpi=600, bbox_inches=bbox)"
   ]
  },
  {
   "cell_type": "code",
   "execution_count": null,
   "metadata": {},
   "outputs": [],
   "source": [
    "\n",
    "# Set image size. Here we've doubled the default figure size.\n",
    "# It doesn't matter too much what size is used, as long as the resulting image is high-res enough \n",
    "# (which can also be configured via the DPI setting) \n",
    "width_inches = 12.8\n",
    "height_inches = 9.6\n",
    "dpi = 600\n",
    "\n",
    "fig = plt.figure(figsize=(width_inches, height_inches))\n",
    "ax = fig.add_subplot(111)\n",
    "\n",
    "# Plot figure\n",
    "gdf.plot(column_to_plot, \n",
    "         ax=ax, \n",
    "         categorical=True, \n",
    "         legend=True,\n",
    "         legend_kwds={'bbox_to_anchor': (2.0,1)}, # Add enough space for the to fall outside the main graph\n",
    "         linewidth=0)\n",
    "\n",
    "# Extract legend and save as a separate file\n",
    "legend = ax.get_legend()\n",
    "export_legend(legend, filename=legend_filename, legend_label_dict=legend_label_lookup)\n",
    "\n",
    "# Since we've exported the legend, we can now remove it.\n",
    "legend.remove()\n",
    "\n",
    "# Now we need to amend the axis and padding to ensure we can map the pixels to locations on the map\n",
    "ax.axis('scaled')\n",
    "xlim = ax.get_xlim()\n",
    "ylim = ax.get_ylim()\n",
    "ax.set_xticks([])\n",
    "ax.set_yticks([])\n",
    "ax.axis('off')\n",
    "plt.subplots_adjust(left=0, right=1, bottom=0, top=1, hspace=0, wspace=0)\n",
    "\n",
    "# If you suspect the padding might be causing issues, then it can be helpful to plot a point in the lower\n",
    "# left corner for debugging purposes - a quarter circle should extend to the limit of the image with no white space\n",
    "# ax.plot(ax.get_xlim()[0], ax.get_ylim()[0], 'ro', ms=100)\n",
    "\n",
    "plt.savefig(texture_filename, bbox_inches='tight', pad_inches=0., dpi=dpi)"
   ]
  },
  {
   "cell_type": "code",
   "execution_count": null,
   "metadata": {},
   "outputs": [],
   "source": [
    "print('The following information is needed to build the overlay texture in unreal:')\n",
    "print('LL eastings offset: %s' % ax.get_xlim()[0])\n",
    "print('LL northings offset: %s' % ax.get_ylim()[0])\n",
    "\n",
    "print('Eastings world origin to texture start (cm): %s' % (-100 * (ue_world_origin_bng_eastings - ax.get_xlim()[0])))\n",
    "print('Northings world origin to texture start (cm): %s' % (100 * (ue_world_origin_bng_northings - ax.get_ylim()[0])))\n",
    "print('Texture width (cm): %s' % (100 * (ax.get_xlim()[1] - ax.get_xlim()[0])))\n",
    "print('Text height (cm): %s' % (100 * (ax.get_ylim()[1] - ax.get_ylim()[0])))\n"
   ]
  },
  {
   "attachments": {},
   "cell_type": "markdown",
   "metadata": {},
   "source": [
    "Import then texture into Unreal Engine, then a new material can be created with a blueprint as shown in the image below. \n",
    "\n",
    "This material stretches the image of the map over the Unreal worldspace for the relevant area shown in the texture map.\n",
    "\n",
    "![image](images/Overlay_material_example.PNG)"
   ]
  },
  {
   "attachments": {},
   "cell_type": "markdown",
   "metadata": {},
   "source": [
    "If everything's worked, then a plane in Unreal Engine with the material assigned should show a tiling of the map where the tile overlaying the origin point has map coordinates that match up with unreal world coordinates in line with your chosen anchor point:\n",
    "\n",
    "![image](images/Choropleth_overlay_plane.PNG)\n",
    "\n",
    "Adding other static mesh actors to unreal, such as city buildings, and then assigning the material to these buildings as an overlay material can provide an interesting option for 3d data visualisation:\n",
    "\n",
    "![image](images/choropleth_overlay_example.PNG)"
   ]
  },
  {
   "attachments": {},
   "cell_type": "markdown",
   "metadata": {},
   "source": []
  }
 ],
 "metadata": {
  "kernelspec": {
   "display_name": "unreal-python-play-VO8PnsU2",
   "language": "python",
   "name": "python3"
  },
  "language_info": {
   "codemirror_mode": {
    "name": "ipython",
    "version": 3
   },
   "file_extension": ".py",
   "mimetype": "text/x-python",
   "name": "python",
   "nbconvert_exporter": "python",
   "pygments_lexer": "ipython3",
   "version": "3.11.3"
  },
  "orig_nbformat": 4
 },
 "nbformat": 4,
 "nbformat_minor": 2
}
